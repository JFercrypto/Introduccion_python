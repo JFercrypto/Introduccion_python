{
  "nbformat": 4,
  "nbformat_minor": 0,
  "metadata": {
    "colab": {
      "provenance": [],
      "toc_visible": true,
      "include_colab_link": true
    },
    "kernelspec": {
      "name": "python3",
      "display_name": "Python 3"
    },
    "language_info": {
      "name": "python"
    }
  },
  "cells": [
    {
      "cell_type": "markdown",
      "metadata": {
        "id": "view-in-github",
        "colab_type": "text"
      },
      "source": [
        "<a href=\"https://colab.research.google.com/github/JFercrypto/Introduccion_python/blob/main/Ejercicios_Variables.ipynb\" target=\"_parent\"><img src=\"https://colab.research.google.com/assets/colab-badge.svg\" alt=\"Open In Colab\"/></a>"
      ]
    },
    {
      "cell_type": "markdown",
      "source": [
        "#Ejercicio 1\n"
      ],
      "metadata": {
        "id": "VGmDLRCRnvOc"
      }
    },
    {
      "cell_type": "code",
      "source": [
        "#Indique el error de nomenclatura en las siguientes variables.\n",
        "#árbol = 2\n",
        "#Ines:Pedro = \"casados\"\n",
        "#t,5 = 30000.00\n",
        "#in = 6339\n",
        "#h+ = True\n",
        "#La_floresta* = 0.0000001\n",
        "#Marco's = 3555000"
      ],
      "metadata": {
        "id": "bahhbkuSntHY"
      },
      "execution_count": null,
      "outputs": []
    },
    {
      "cell_type": "markdown",
      "source": [
        "# Ejercicio 2"
      ],
      "metadata": {
        "id": "EJW_7VVinrv9"
      }
    },
    {
      "cell_type": "code",
      "source": [
        "# Dado lo siguiente, cuál se puede decir es el error?\n",
        "class= entero"
      ],
      "metadata": {
        "colab": {
          "base_uri": "https://localhost:8080/",
          "height": 106
        },
        "id": "ybPlgNnOTR_N",
        "outputId": "250f2587-896f-4cc0-fded-a951acb7a9a8"
      },
      "execution_count": null,
      "outputs": [
        {
          "output_type": "error",
          "ename": "SyntaxError",
          "evalue": "invalid syntax (<ipython-input-2-26f16c01d6bb>, line 2)",
          "traceback": [
            "\u001b[0;36m  File \u001b[0;32m\"<ipython-input-2-26f16c01d6bb>\"\u001b[0;36m, line \u001b[0;32m2\u001b[0m\n\u001b[0;31m    class= entero\u001b[0m\n\u001b[0m         ^\u001b[0m\n\u001b[0;31mSyntaxError\u001b[0m\u001b[0;31m:\u001b[0m invalid syntax\n"
          ]
        }
      ]
    },
    {
      "cell_type": "markdown",
      "source": [
        "#Ejercicio 3"
      ],
      "metadata": {
        "id": "6fb5gfzLTn4r"
      }
    },
    {
      "cell_type": "code",
      "source": [
        "# Qué tipo de variable son los siguientes ejercicios\n",
        "    # 1\n",
        "si= True\n",
        "    # 2\n",
        "x= 1.4142\n",
        "    # 3\n",
        "y= \"tema 2\"\n",
        "# Si defino una variable z cuyo valor depende de x, ar dar print(z) esta es igual a 1, entonces qué tipo de variable se ha usado?"
      ],
      "metadata": {
        "id": "QajzzEu-T1-5"
      },
      "execution_count": null,
      "outputs": []
    },
    {
      "cell_type": "markdown",
      "source": [
        "#Ejercicio 4"
      ],
      "metadata": {
        "id": "JnjQ9Y6qTfy3"
      }
    },
    {
      "cell_type": "code",
      "execution_count": null,
      "metadata": {
        "id": "nfeFgNwqCw9l"
      },
      "outputs": [],
      "source": [
        "#Declaré una variable booleana llamada aprobado y conviertala a entero."
      ]
    },
    {
      "cell_type": "markdown",
      "source": [
        "#Ejercicio 5"
      ],
      "metadata": {
        "id": "L3VF1gZ-TkOm"
      }
    },
    {
      "cell_type": "code",
      "source": [
        "#Dada la siguiente variable\n",
        "texto= \"cinco\"\n",
        "#convertir el string no numérico a enter\n",
        "#¿Qué tipo de excepción se lanza en este caso?\n",
        "\n",
        "\n",
        "#Intenta modificar el valor de texto a un string numérico como \"5\". ¿Sigue apareciendo el error?"
      ],
      "metadata": {
        "colab": {
          "base_uri": "https://localhost:8080/"
        },
        "id": "GNOAOhVHSNR9",
        "outputId": "8ae0e64b-eba8-4bf7-e340-b76d0cc48582"
      },
      "execution_count": null,
      "outputs": [
        {
          "output_type": "execute_result",
          "data": {
            "text/plain": [
              "5"
            ]
          },
          "metadata": {},
          "execution_count": 4
        }
      ]
    }
  ]
}